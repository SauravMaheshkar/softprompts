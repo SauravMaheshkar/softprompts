{
 "nbformat": 4,
 "nbformat_minor": 0,
 "metadata": {
  "colab": {
   "private_outputs": true,
   "provenance": [],
   "gpuType": "T4",
   "cell_execution_strategy": "setup",
   "authorship_tag": "ABX9TyOCwBacg5sJl9GffzsR973a",
   "include_colab_link": true
  },
  "kernelspec": {
   "name": "python3",
   "display_name": "Python 3"
  },
  "language_info": {
   "name": "python"
  },
  "accelerator": "GPU"
 },
 "cells": [
  {
   "cell_type": "markdown",
   "metadata": {
    "id": "view-in-github",
    "colab_type": "text"
   },
   "source": [
    "<a href=\"https://colab.research.google.com/gist/SauravMaheshkar/f318ab4de6972b9580ea4d3b26128160/prompt-tuning.ipynb\" target=\"_parent\"><img src=\"https://colab.research.google.com/assets/colab-badge.svg\" alt=\"Open In Colab\"/></a>"
   ]
  },
  {
   "cell_type": "markdown",
   "source": [
    "## 📦 Packages and Basic Setup\n",
    "---"
   ],
   "metadata": {
    "id": "xHnnVNKXw7DU"
   }
  },
  {
   "cell_type": "code",
   "execution_count": null,
   "metadata": {
    "id": "W6_yFhzLw1bo"
   },
   "outputs": [],
   "source": [
    "%%capture\n",
    "!pip install -q peft transformers datasets evaluate wandb ml-collections"
   ]
  },
  {
   "cell_type": "code",
   "source": [
    "import os\n",
    "from google.colab import userdata\n",
    "\n",
    "key = userdata.get(\"W&B\")\n",
    "os.environ[\"WANDB_API_KEY\"] = key"
   ],
   "metadata": {
    "id": "vQ5KuWWgw_bR"
   },
   "execution_count": null,
   "outputs": []
  },
  {
   "cell_type": "code",
   "source": [
    "# @title ⚙️ Configuration\n",
    "\n",
    "import ml_collections\n",
    "\n",
    "\n",
    "def get_config() -> ml_collections.ConfigDict:\n",
    "    config = ml_collections.ConfigDict()\n",
    "    config.model: str = \"google/flan-t5-small\"  # @param {type: \"string\"}\n",
    "    config.task: str = \"mrpc\"  # @param {type: \"string\"}\n",
    "    config.batch_size: int = 128  # @param {type: \"number\"}\n",
    "    config.num_epochs: int = 10  # @param {type: \"number\"}\n",
    "    config.learning_rate: int = 1e-3  # @param {type: \"number\"}\n",
    "    config.dataset: str = \"glue\"  # @param {type: \"string\"}\n",
    "    config.wandb_entity: str = \"sauravmaheshkar\"  # @param {type: \"string\"}\n",
    "\n",
    "    return config\n",
    "\n",
    "\n",
    "config = get_config()"
   ],
   "metadata": {
    "id": "2nXChsqaxDVA"
   },
   "execution_count": null,
   "outputs": []
  },
  {
   "cell_type": "code",
   "source": [
    "import wandb\n",
    "\n",
    "wandb.init(\n",
    "    project=\"softprompts\",\n",
    "    entity=config.wandb_entity,\n",
    "    job_type=\"train\",\n",
    "    group=\"prompt-tuning\",\n",
    "    config=config.to_dict(),\n",
    ")\n",
    "\n",
    "os.environ[\"CUDA_VISIBLE_DEVICES\"] = \"0\"\n",
    "os.environ[\"WANDB_WATCH\"] = \"false\"\n",
    "os.environ[\"WANDB_LOG_MODEL\"] = \"true\""
   ],
   "metadata": {
    "id": "hodO_Lt4xHEn"
   },
   "execution_count": null,
   "outputs": []
  },
  {
   "cell_type": "markdown",
   "source": [
    "## 💿 The Dataset\n",
    "---"
   ],
   "metadata": {
    "id": "XYYkWlWjxNgR"
   }
  },
  {
   "cell_type": "code",
   "source": [
    "from datasets import load_dataset\n",
    "\n",
    "dataset = load_dataset(config.dataset, config.task)"
   ],
   "metadata": {
    "id": "BX8X7AMExPnf"
   },
   "execution_count": null,
   "outputs": []
  },
  {
   "cell_type": "code",
   "source": [
    "from transformers import AutoTokenizer, DataCollatorWithPadding\n",
    "\n",
    "if any(k in config.model for k in (\"gpt\", \"opt\", \"bloom\")):\n",
    "    padding_side = \"left\"\n",
    "else:\n",
    "    padding_side = \"right\"\n",
    "\n",
    "tokenizer = AutoTokenizer.from_pretrained(config.model, padding_side=padding_side)\n",
    "if getattr(tokenizer, \"pad_token_id\") is None:\n",
    "    tokenizer.pad_token_id = tokenizer.eos_token_id\n",
    "\n",
    "\n",
    "def tokenize_function(examples):\n",
    "    # max_length=None => use the model max length (it's actually the default)\n",
    "    outputs = tokenizer(\n",
    "        examples[\"sentence1\"], examples[\"sentence2\"], truncation=True, max_length=None\n",
    "    )\n",
    "    return outputs\n",
    "\n",
    "\n",
    "tokenized_datasets = dataset.map(\n",
    "    tokenize_function,\n",
    "    batched=True,\n",
    "    remove_columns=[\"idx\", \"sentence1\", \"sentence2\"],\n",
    ")\n",
    "\n",
    "tokenized_datasets = tokenized_datasets.rename_column(\"label\", \"labels\")\n",
    "\n",
    "data_collator = DataCollatorWithPadding(tokenizer=tokenizer, padding=\"longest\")"
   ],
   "metadata": {
    "id": "Uq5nWxsuxURr"
   },
   "execution_count": null,
   "outputs": []
  },
  {
   "cell_type": "markdown",
   "source": [
    "## ✍️ Model Architecture & Training\n",
    "---"
   ],
   "metadata": {
    "id": "-A-hKpGZxiLx"
   }
  },
  {
   "cell_type": "code",
   "source": [
    "from peft import PromptTuningConfig\n",
    "\n",
    "peft_config = PromptTuningConfig(\n",
    "    task_type=\"SEQ_CLS\",\n",
    "    num_virtual_tokens=10,\n",
    ")"
   ],
   "metadata": {
    "id": "u6ltpQHOxjdz"
   },
   "execution_count": null,
   "outputs": []
  },
  {
   "cell_type": "code",
   "source": [
    "from peft import get_peft_model\n",
    "from transformers import AutoModelForSequenceClassification\n",
    "\n",
    "model = AutoModelForSequenceClassification.from_pretrained(\n",
    "    config.model, return_dict=True\n",
    ")\n",
    "model = get_peft_model(model, peft_config)"
   ],
   "metadata": {
    "id": "3UdlMTqAxtEY"
   },
   "execution_count": null,
   "outputs": []
  },
  {
   "cell_type": "code",
   "source": [
    "import evaluate\n",
    "import numpy as np\n",
    "\n",
    "metric = evaluate.load(config.dataset, config.task)\n",
    "\n",
    "\n",
    "def compute_metrics(eval_pred):\n",
    "    predictions, labels = eval_pred\n",
    "    predictions = np.argmax(predictions, axis=1)\n",
    "    return metric.compute(predictions=predictions, references=labels)"
   ],
   "metadata": {
    "id": "e2gE6ntZxy4h"
   },
   "execution_count": null,
   "outputs": []
  },
  {
   "cell_type": "code",
   "source": [
    "from transformers import TrainingArguments\n",
    "\n",
    "training_args = TrainingArguments(\n",
    "    output_dir=f\"{config.model}-peft-prompt-tuning\",\n",
    "    learning_rate=config.learning_rate,\n",
    "    per_device_train_batch_size=config.batch_size,\n",
    "    per_device_eval_batch_size=config.batch_size,\n",
    "    num_train_epochs=config.num_epochs,\n",
    "    weight_decay=0.01,\n",
    "    evaluation_strategy=\"epoch\",\n",
    "    save_strategy=\"epoch\",\n",
    "    load_best_model_at_end=True,\n",
    "    report_to=[\"wandb\"],\n",
    ")"
   ],
   "metadata": {
    "id": "7lMjRIo7x8UK"
   },
   "execution_count": null,
   "outputs": []
  },
  {
   "cell_type": "code",
   "source": [
    "from transformers import Trainer\n",
    "\n",
    "trainer = Trainer(\n",
    "    model=model,\n",
    "    args=training_args,\n",
    "    train_dataset=tokenized_datasets[\"train\"],\n",
    "    eval_dataset=tokenized_datasets[\"test\"],\n",
    "    tokenizer=tokenizer,\n",
    "    data_collator=data_collator,\n",
    "    compute_metrics=compute_metrics,\n",
    ")\n",
    "\n",
    "train_results = trainer.train()"
   ],
   "metadata": {
    "id": "Gl7FX84mx-YM"
   },
   "execution_count": null,
   "outputs": []
  },
  {
   "cell_type": "code",
   "source": [
    "wandb.config.train_results = train_results\n",
    "wandb.finish()"
   ],
   "metadata": {
    "id": "N7kToKLsyDqw"
   },
   "execution_count": null,
   "outputs": []
  }
 ]
}
